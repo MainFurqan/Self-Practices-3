{
 "cells": [
  {
   "cell_type": "markdown",
   "id": "b2e92c53",
   "metadata": {},
   "source": [
    "Question 1: Variables and Data Types  \n",
    "Problem: Write a Python program that: \n",
    "1.  Accepts a string, an integer, a float, and a boolean from the user. \n",
    "2.  Initializes variables for each type, and prints them out. \n",
    "3.  Convert the string to uppercase and print it. \n",
    "4.  Check if the integer is even or odd and print the result. \n",
    "5.  Multiply the float by 2 and print the result. \n",
    "Example Input: \n",
    "\n",
    "Enter a string: python \n",
    "\n",
    "Enter an integer: 25 \n",
    "\n",
    "Enter a float: 3.14 \n",
    "\n",
    "Enter a boolean (True/False): True \n",
    " \n",
    "Example Output: \n",
    "\n",
    "Uppercase String: PYTHON \n",
    "\n",
    "The number 25 is Odd \n",
    "\n",
    "Doubled float: 6.28"
   ]
  },
  {
   "cell_type": "code",
   "execution_count": 12,
   "id": "c5b3779e",
   "metadata": {},
   "outputs": [],
   "source": [
    "# 1. Accepts a string, an integer, a float, and a boolean from the user.\n",
    "\n",
    "user_string = input(\"Enter a string: \")\n",
    "user_integer = int(input(\"Enter an integer: \"))\n",
    "user_float = float(input(\"Enter a float: \"))\n",
    "boolean_input = input(\"Enter a boolean (True/False): \").strip().lower()\n",
    "\n",
    "# Convert the boolean input to the correct type\n",
    "if boolean_input == \"true\":\n",
    "    user_boolean = True\n",
    "elif boolean_input == \"false\":\n",
    "    user_boolean = False\n",
    "else:\n",
    "    print(\"Invalid input... Setting default value as False.\")\n",
    "    user_boolean = False\n"
   ]
  },
  {
   "cell_type": "code",
   "execution_count": 13,
   "id": "368c61d4",
   "metadata": {},
   "outputs": [
    {
     "name": "stdout",
     "output_type": "stream",
     "text": [
      "String: Python\n",
      "Integer: 25\n",
      "Float: 3.14\n",
      "Boolean: true\n"
     ]
    }
   ],
   "source": [
    "# 2. Initializes variables for each type, and prints them out.\n",
    "print(\"String:\", user_string)\n",
    "print(\"Integer:\", user_integer)\n",
    "print(\"Float:\", user_float)\n",
    "print(\"Boolean:\", boolean_input)"
   ]
  },
  {
   "cell_type": "code",
   "execution_count": 14,
   "id": "e837685a",
   "metadata": {},
   "outputs": [
    {
     "name": "stdout",
     "output_type": "stream",
     "text": [
      "Uppercase String:  PYTHON\n",
      "The number 25 is Odd\n",
      "Doubled float:  6.28\n"
     ]
    }
   ],
   "source": [
    "# 3.  Convert the string to uppercase and print it.\n",
    "uppercase_string = user_string.strip().upper()\n",
    "print(\"Uppercase String: \",uppercase_string)\n",
    "\n",
    "# 4.  Check if the integer is even or odd and print the result.\n",
    "if user_integer%2 == 0:\n",
    "    print(f\"The number {user_integer} is Even\")\n",
    "else:\n",
    "    print(f\"The number {user_integer} is Odd\")\n",
    "\n",
    "# 5.  Multiply the float by 2 and print the result.\n",
    "multiply_float = 2 * user_float\n",
    "print(\"Doubled float: \", multiply_float)\n"
   ]
  },
  {
   "cell_type": "markdown",
   "id": "4fe126e0",
   "metadata": {},
   "source": [
    "Question 2: Operators  \n",
    "Problem: Write a Python program that: \n",
    "\n",
    "1.  Accepts two numbers as input from the user. \n",
    "\n",
    "2.  Performs and prints the result of all the arithmetic operations (addition, subtraction, multiplication, division, modulus, flow division) between these two numbers. \n",
    "\n",
    "3.  Use comparison operators to check if the first number is greater than the second, and if they are equal. \n",
    "\n",
    "4.  Use logical operators to combine two conditions (e.g., the first number is greater than the second, and the second number is less than 10). \n",
    "\n",
    "Example Input: \n",
    "\n",
    "Enter the first number: 10 \n",
    "\n",
    "Enter the second number: 3 \n",
    "\n",
    "Example Output: \n",
    "\n",
    "Addition: 13 \n",
    "\n",
    "Subtraction: 7 \n",
    "\n",
    "Multiplication: 30 \n",
    "\n",
    "Division: 3.3333333333333335 \n",
    "\n",
    "Modulus: 1 \n",
    "\n",
    "Flow Division: 3 \n",
    "\n",
    "First number is greater than second: True \n",
    "\n",
    "First number is equal to second: False \n",
    "\n",
    "Both conditions are true: True"
   ]
  },
  {
   "cell_type": "code",
   "execution_count": null,
   "id": "ad8e71f2",
   "metadata": {},
   "outputs": [],
   "source": [
    "\n",
    "# 1.  Accepts two numbers as input from the user.\n",
    "num_1 = int(input(\"Enter the first number: \"))\n",
    "num_2 = int(input(\"Enter the second number: \"))"
   ]
  },
  {
   "cell_type": "code",
   "execution_count": 2,
   "id": "a123d65d",
   "metadata": {},
   "outputs": [
    {
     "name": "stdout",
     "output_type": "stream",
     "text": [
      "Addition:  13\n",
      "Subtraction:  7\n",
      "Multiplication:  30\n",
      "Division:  3.3333333333333335\n",
      "Modulus:  1\n",
      "Flow Division:  3\n"
     ]
    }
   ],
   "source": [
    "# 2.  Performs and prints the result of all the arithmetic operations (addition, subtraction, multiplication, division, modulus, flow division) between these two numbers. \n",
    "print(\"Addition: \", num_1 + num_2)\n",
    "print(\"Subtraction: \", num_1 - num_2)\n",
    "print(\"Multiplication: \", num_1 * num_2)\n",
    "print(\"Division: \", num_1/num_2)\n",
    "print(\"Modulus: \", num_1%num_2)\n",
    "print(\"Flow Division: \", num_1//num_2)"
   ]
  },
  {
   "cell_type": "code",
   "execution_count": 10,
   "id": "a139a44d",
   "metadata": {},
   "outputs": [
    {
     "name": "stdout",
     "output_type": "stream",
     "text": [
      "First number is greater than second: True\n",
      "First number is equal to second: False\n"
     ]
    }
   ],
   "source": [
    "# 3.  Use comparison operators to check if the first number is greater than the second, and if they are equal.\n",
    "if num_1 >= num_2:\n",
    "    print(\"First number is greater than second: True\")\n",
    "else:\n",
    "    print(\"First number is greater than second: False\")\n",
    "\n",
    "\n",
    "if num_1 == num_2:\n",
    "    print(\"First number is equal to second: True\")\n",
    "else:\n",
    "    print(\"First number is equal to second: False\")"
   ]
  },
  {
   "cell_type": "code",
   "execution_count": 12,
   "id": "5a664b1e",
   "metadata": {},
   "outputs": [
    {
     "name": "stdout",
     "output_type": "stream",
     "text": [
      "Both conditions are true: True\n"
     ]
    }
   ],
   "source": [
    "#  4.  Use logical operators to combine two conditions (e.g., the first number is greater than the second, and the second number is less than 10).\n",
    "if num_1 > num_2 and num_2 < 10:\n",
    "    print(\"Both conditions are true: True\")\n",
    "else:\n",
    "    print(\"Both conditions are true: False\")"
   ]
  },
  {
   "cell_type": "markdown",
   "id": "0722112d",
   "metadata": {},
   "source": [
    "Question 3: Loops  \n",
    "\n",
    "Problem: Write a Python program that: \n",
    "\n",
    "1.  Accepts a list of integers from the user. \n",
    "\n",
    "2.  Loops through the list and prints out each number. \n",
    "\n",
    "3.  If a number is greater than 10, skip it using the continue statement. \n",
    "\n",
    "4.  Stop the loop if the number is 20 using the break statement. \n",
    "\n",
    "5.  After the loop ends, print a message that the loop ended naturally. \n",
    "\n",
    "Example Input: \n",
    "\n",
    "Enter a list of numbers separated by spaces: 5 10 12 15 20 8 \n",
    " \n",
    "Example Output: \n",
    "\n",
    "5 \n",
    "\n",
    "10 \n",
    "\n",
    "Skipping 12 \n",
    "\n",
    "15 \n",
    "\n",
    "Breaking at 20 \n",
    "\n",
    "Loop ended naturally"
   ]
  },
  {
   "cell_type": "code",
   "execution_count": 14,
   "id": "5424164e",
   "metadata": {},
   "outputs": [
    {
     "name": "stdout",
     "output_type": "stream",
     "text": [
      "[5, 10, 12, 15, 20, 8]\n"
     ]
    }
   ],
   "source": [
    "# 1.  Accepts a list of integers from the user.\n",
    "user_list = input(\"Enter a list of numbers separated by spaces: \")\n",
    "\n",
    "int_list = list(map(int, user_list.split()))\n",
    "print(int_list)"
   ]
  },
  {
   "cell_type": "code",
   "execution_count": 25,
   "id": "0ad69ae1",
   "metadata": {},
   "outputs": [
    {
     "name": "stdout",
     "output_type": "stream",
     "text": [
      "5\n",
      "10\n",
      "Skipping 12\n",
      "Skipping 15\n",
      "Breaking at 20\n",
      "Loop ended naturally\n"
     ]
    }
   ],
   "source": [
    "# 2.  Loops through the list and prints out each number.\n",
    "for i in int_list:\n",
    "\n",
    "    # 4.  Stop the loop if the number is 20 using the break statement.\n",
    "    if i == 20:\n",
    "        print(f\"Breaking at {i}\")\n",
    "        print(\"Loop ended naturally\")         # 5.  After the loop ends, print a message that the loop ended naturally.\n",
    "        break\n",
    "\n",
    "    # 3.  If a number is greater than 10, skip it using the continue statement.\n",
    "    if i > 10:\n",
    "        print(f\"Skipping {i}\")\n",
    "        continue\n",
    "    print(i)\n",
    "\n",
    "# # 5.  After the loop ends, print a message that the loop ended naturally.\n",
    "# else:\n",
    "#     print(\"Loop ended naturally\") \n",
    "            "
   ]
  }
 ],
 "metadata": {
  "kernelspec": {
   "display_name": "data_structure",
   "language": "python",
   "name": "python3"
  },
  "language_info": {
   "codemirror_mode": {
    "name": "ipython",
    "version": 3
   },
   "file_extension": ".py",
   "mimetype": "text/x-python",
   "name": "python",
   "nbconvert_exporter": "python",
   "pygments_lexer": "ipython3",
   "version": "3.12.9"
  }
 },
 "nbformat": 4,
 "nbformat_minor": 5
}
