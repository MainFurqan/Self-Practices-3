{
 "cells": [
  {
   "cell_type": "markdown",
   "metadata": {},
   "source": [
    "Question 1: Code Along  \n",
    "Problem: Write a Python program that takes a string as input and prints out the \n",
    "following: \n",
    "1.  The string in reverse order. \n",
    "2.  The number of vowels in the string. \n",
    "\n",
    "Instructions:\n",
    "\n",
    "●  Use basic string manipulation techniques such as loops, conditionals, and \n",
    "string methods.\n",
    "\n",
    "●  Ensure that the program counts both uppercase and lowercase vowels (a, e, i, o, u). \n",
    "\n",
    "Example Input:\n",
    "\n",
    "Enter a string: Hello World \n",
    "\n",
    "Example Output: \n",
    "\n",
    "Reversed string: dlroW olleH \n",
    "\n",
    "Number of vowels: 3"
   ]
  },
  {
   "cell_type": "code",
   "execution_count": 1,
   "metadata": {},
   "outputs": [
    {
     "name": "stdout",
     "output_type": "stream",
     "text": [
      "Reversed string:  naqruF\n"
     ]
    }
   ],
   "source": [
    "# Ask to user enter the input\n",
    "name = input(\"Enter your Name: \")\n",
    "\n",
    "# 1.  The string in reverse order. \n",
    "reverse_input = name[::-1]\n",
    "print(\"Reversed string: \",reverse_input)     # Display the reverse input\n"
   ]
  },
  {
   "cell_type": "code",
   "execution_count": 2,
   "metadata": {},
   "outputs": [
    {
     "name": "stdout",
     "output_type": "stream",
     "text": [
      "Number of vowels:  2\n"
     ]
    }
   ],
   "source": [
    "# 2.  The number of vowels in the string.\n",
    "vowels = {'a', 'e', 'i', 'o', 'u', 'A', 'E', 'I', 'O', 'U'}     # Set of vowels\n",
    "count = 0\n",
    "\n",
    "for char in name:\n",
    "    if char in vowels:\n",
    "        count += 1     # Increment \n",
    "\n",
    "print(\"Number of vowels: \", count)\n"
   ]
  },
  {
   "cell_type": "markdown",
   "metadata": {},
   "source": [
    "Question 2: Hands-on Coding Project  \n",
    "\n",
    "Problem: Create a Python program that: \n",
    "\n",
    "●  Takes an input number from the user. \n",
    "\n",
    "●  Checks whether the number is even or odd. \n",
    "\n",
    "●  Prints the result. \n",
    "\n",
    "Instructions: \n",
    "\n",
    "●  Write a Python script that accepts a number from the user, determines \n",
    "\n",
    "whether it is even or odd, and prints the result. \n",
    "\n",
    "●  Use conditionals to check if the number is even or odd. \n",
    "\n",
    "Example Input: \n",
    "\n",
    "Enter a number: 5 \n",
    "\n",
    "Example Output: \n",
    "\n",
    "The number 5 is Odd."
   ]
  },
  {
   "cell_type": "code",
   "execution_count": 3,
   "metadata": {},
   "outputs": [
    {
     "name": "stdout",
     "output_type": "stream",
     "text": [
      "The number 45 is odd.\n"
     ]
    }
   ],
   "source": [
    "# Ask to user enter input\n",
    "num = int(input(\"Enter a number: \"))\n",
    "\n",
    "if num%2==0:\n",
    "    print(f\"The number {num} is Even.\")\n",
    "else:\n",
    "    print(f\"The number {num} is odd.\")\n"
   ]
  },
  {
   "cell_type": "markdown",
   "metadata": {},
   "source": [
    "Question 3: Virtual Environment Application  \n",
    "\n",
    "Problem: Create a Python program that: \n",
    "\n",
    "1.  Takes a list of integers as input. \n",
    "\n",
    "2.  Creates a new virtual environment called sortenv. \n",
    "\n",
    "3.  Installs a package (such as numpy) in the virtual environment. \n",
    "\n",
    "4.  Sorts the list using a numpy method (numpy.sort()). \n",
    "\n",
    "5.  Prints the sorted list. \n",
    "\n",
    "Instructions: \n",
    "\n",
    "●  You will not be expected to actually run the environment creation commands but rather simulate what would happen by describing the steps in your code and then focusing on the sorting operation. \n",
    "\n",
    "●  Make sure that your program explains each step as comments and performs sorting using numpy. \n",
    "\n",
    "Example Input: \n",
    "\n",
    "Enter a list of numbers: [4, 2, 7, 1, 3] \n",
    "\n",
    "Example Output: \n",
    "\n",
    "Sorted list: [1, 2, 3, 4, 7]"
   ]
  },
  {
   "cell_type": "code",
   "execution_count": 4,
   "metadata": {},
   "outputs": [
    {
     "name": "stdout",
     "output_type": "stream",
     "text": [
      "Sorted list:  [0 1 3 4 6 7 9]\n"
     ]
    }
   ],
   "source": [
    "import numpy as np\n",
    "\n",
    "user_input = input(\"Enter a list of numbers separated by space: \")\n",
    "input_list = list(map(int, user_input.split()))\n",
    "\n",
    "sorted_list = np.sort(input_list)\n",
    "print(\"Sorted list: \", sorted_list)"
   ]
  }
 ],
 "metadata": {
  "kernelspec": {
   "display_name": "data_structure",
   "language": "python",
   "name": "python3"
  },
  "language_info": {
   "codemirror_mode": {
    "name": "ipython",
    "version": 3
   },
   "file_extension": ".py",
   "mimetype": "text/x-python",
   "name": "python",
   "nbconvert_exporter": "python",
   "pygments_lexer": "ipython3",
   "version": "3.12.9"
  }
 },
 "nbformat": 4,
 "nbformat_minor": 2
}
